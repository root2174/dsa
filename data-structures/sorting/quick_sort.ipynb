{
 "cells": [
  {
   "metadata": {},
   "cell_type": "markdown",
   "source": [
    "# Quick Sort\n",
    "\n",
    "Quick sort is a highly efficient, divide-and-conquer sorting algorithm. It works by selecting a \"pivot\" element from the array, partitioning the array into two subarrays (elements less than the pivot and elements greater than or equal to the pivot), and then recursively applying the same process to the subarrays.\n",
    "\n",
    "## Steps\n",
    "1. Choose a pivot:\n",
    "    * A pivot is selected (commonly the first, last, middle, or a random element in the array).\n",
    "2. Partitioning:\n",
    "    * Rearrange the array so that all elements smaller than the pivot are on the left and all elements greater than or equal to the pivot are on the right.\n",
    "3. Recursively Sort Subarrays.\n",
    "4. Base Case: Stop when the subarray has one or zero elements, as it is already sorted.\n",
    "\n",
    "## Characteristics\n",
    "* Time complexity:\n",
    "    * Best and average case: O(n log n)\n",
    "    * Worst case: O(nˆ2)\n",
    "* Space complexity: O(log n) for recursive calls."
   ],
   "id": "7d5fa5af14c23b25"
  },
  {
   "cell_type": "code",
   "id": "initial_id",
   "metadata": {
    "collapsed": true,
    "ExecuteTime": {
     "end_time": "2025-01-20T16:39:00.262242Z",
     "start_time": "2025-01-20T16:39:00.259082Z"
    }
   },
   "source": [
    "def quick_sort(arr):\n",
    "    # Base case: arrays with 0 or 1 element are already sorted\n",
    "    if len(arr) <= 1:\n",
    "        return arr\n",
    "\n",
    "    # Choose the pivot (last element in this case)\n",
    "    pivot = arr[-1]\n",
    "\n",
    "    # Partitioning step\n",
    "    left = [x for x in arr[:-1] if x < pivot]  # Elements less than pivot\n",
    "    right = [x for x in arr[:-1] if x >= pivot]  # Elements greater or equal to pivot\n",
    "\n",
    "    # Recursively sort left and right subarrays, then combine\n",
    "    return quick_sort(left) + [pivot] + quick_sort(right)\n",
    "\n",
    "# Example usage:\n",
    "arr = [64, 34, 25, 12, 22, 11, 90]\n",
    "print(\"Original array:\", arr)\n",
    "sorted_arr = quick_sort(arr)\n",
    "print(\"Sorted array:\", sorted_arr)"
   ],
   "outputs": [
    {
     "name": "stdout",
     "output_type": "stream",
     "text": [
      "Original array: [64, 34, 25, 12, 22, 11, 90]\n",
      "Sorted array: [11, 12, 22, 25, 34, 64, 90]\n"
     ]
    }
   ],
   "execution_count": 1
  }
 ],
 "metadata": {
  "kernelspec": {
   "display_name": "Python 3",
   "language": "python",
   "name": "python3"
  },
  "language_info": {
   "codemirror_mode": {
    "name": "ipython",
    "version": 2
   },
   "file_extension": ".py",
   "mimetype": "text/x-python",
   "name": "python",
   "nbconvert_exporter": "python",
   "pygments_lexer": "ipython2",
   "version": "2.7.6"
  }
 },
 "nbformat": 4,
 "nbformat_minor": 5
}
