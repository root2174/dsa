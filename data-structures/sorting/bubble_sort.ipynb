{
 "cells": [
  {
   "metadata": {},
   "cell_type": "markdown",
   "source": [
    "# Bubble Sort\n",
    "\n",
    "Bubble sort is a simple sorting algorithm. It works by comparing adjacent elements and swapping them if they are in the wrong order. It gets its name because smaller elements bubble to the top (start) of the list, while bigger elements sink to the bottom (end) of the list with each pass.\n",
    "\n",
    "## How it works\n",
    "\n",
    "1. Start at the beginning of the list.\n",
    "2. Compare the first two elements: if the first element is greater than the second, swap them.\n",
    "3. Move to the next pair of adjacent elements and repeat the comparison and swap if necessary.\n",
    "4. Continue this process until the end of the list. At this point, the largest element has \"bubbled\" to its correct position at the end.\n",
    "5. Repeat steps 1-4 for the remaining unsorted portion of the list (excluding the already sorted elements).\n",
    "6. Stop when no swaps are needed in a pass, indicating the list is sorted.\n",
    "\n",
    "## Characteristics\n",
    "\n",
    "1. Time complexity:\n",
    "    * Worst case: O(n^2)\n",
    "    * Best case: O(n)\n",
    "    * Average case: O(n^2)\n",
    "2. Space complexity: O(1), no additional memory required.\n",
    "\n",
    "## When to use\n",
    "Bubble Sort is mainly used for educational purposes or in scenarios where simplicity and clarity are more important than efficiency. For large datasets, more efficient algorithms like Quick Sort or Merge Sort are preferred."
   ],
   "id": "a46aaab62f08f325"
  },
  {
   "cell_type": "code",
   "id": "initial_id",
   "metadata": {
    "collapsed": true,
    "ExecuteTime": {
     "end_time": "2025-01-20T13:45:45.034264Z",
     "start_time": "2025-01-20T13:45:45.031028Z"
    }
   },
   "source": [
    "list_to_sort = [5, 4, 13, 9, 3, 2, 1, 7, 10, 22]\n",
    "\n",
    "def bubble_sort(arr):\n",
    "    n = len(arr)\n",
    "    for i in range(n):\n",
    "        swapped = False\n",
    "        for j in range(n - i - 1):\n",
    "            if arr[j] > arr[j + 1]:\n",
    "                arr[j], arr[j + 1] = arr[j + 1], arr[j]\n",
    "                swapped = True\n",
    "        if not swapped:\n",
    "            break\n",
    "            \n",
    "print(\"original array: \", list_to_sort)\n",
    "bubble_sort(list_to_sort)\n",
    "print(\"sorted array: \", list_to_sort)"
   ],
   "outputs": [
    {
     "name": "stdout",
     "output_type": "stream",
     "text": [
      "original array:  [5, 4, 13, 9, 3, 2, 1, 7, 10, 22]\n",
      "sorted array:  [1, 2, 3, 4, 5, 7, 9, 10, 13, 22]\n"
     ]
    }
   ],
   "execution_count": 1
  },
  {
   "metadata": {},
   "cell_type": "markdown",
   "source": "",
   "id": "b028c6fd52a98ed0"
  }
 ],
 "metadata": {
  "kernelspec": {
   "display_name": "Python 3",
   "language": "python",
   "name": "python3"
  },
  "language_info": {
   "codemirror_mode": {
    "name": "ipython",
    "version": 2
   },
   "file_extension": ".py",
   "mimetype": "text/x-python",
   "name": "python",
   "nbconvert_exporter": "python",
   "pygments_lexer": "ipython2",
   "version": "2.7.6"
  }
 },
 "nbformat": 4,
 "nbformat_minor": 5
}
