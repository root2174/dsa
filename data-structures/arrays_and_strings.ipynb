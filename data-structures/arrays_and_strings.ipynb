{
 "cells": [
  {
   "metadata": {},
   "cell_type": "markdown",
   "source": [
    "## Arrays and Strings\n",
    "\n",
    "Arrays and strings are fundamental concepts in programming. Instead of covering the basics, we'll focus on common problems and appropriate techniques for solving them."
   ],
   "id": "cf9fad9d70bff799"
  },
  {
   "metadata": {},
   "cell_type": "markdown",
   "source": [
    "### Hash Tables\n",
    "\n",
    "A hash table is a data structure that maps keys to values for a more efficient search.\n",
    "\n",
    "- Represents a dynamic set of data.\n",
    "- Allows us to insert, delete and search data. **Emphasis** on the **search** part, which is the highlight of this data structure. In average the search is O(1), but the worst case it's O(n)\n",
    "\n",
    "It's the implementation of a dictionary using the hash function."
   ],
   "id": "1809ada2d943abc6"
  },
  {
   "cell_type": "code",
   "id": "initial_id",
   "metadata": {
    "collapsed": true,
    "ExecuteTime": {
     "end_time": "2024-10-20T13:24:39.096499Z",
     "start_time": "2024-10-20T13:24:39.093609Z"
    }
   },
   "source": [
    "# creating a dictionary\n",
    "dictionary = {'a': 1, 'b': 2, 'c': 'nebraska', 'd': True, 'e': False}\n",
    "\n",
    "# deleting\n",
    "del dictionary['a']\n",
    "\n",
    "# inserting\n",
    "dictionary['a'] = 1\n",
    "\n",
    "# search\n",
    "print(dictionary['e'])\n"
   ],
   "outputs": [
    {
     "name": "stdout",
     "output_type": "stream",
     "text": [
      "False\n"
     ]
    }
   ],
   "execution_count": 1
  },
  {
   "metadata": {},
   "cell_type": "markdown",
   "source": [
    "## ArrayList & Resizable Arrays\n",
    "\n",
    "In some languages, arrays are automatically resizable, meaning that the array will grow as you append items. In other languages, like Java, arrays are fixed length. The size is defined when you create the array.\n",
    "\n",
    "When you need to use a dynamic array in Java, you would usually use an ArrayList. What is the implementation of an ArrayList?\n",
    "\n",
    "- When the array reaches its capacity, double capacity of the array.\n",
    "- Iterate over the original array and copy all the items over the doubled sized array.\n",
    "\n",
    "Because you have to iterate over the array to copy the items, each doubling takes O(n) time, but it happens rarely, so its amortized insertion time is still O(1).\n",
    "\n",
    "On average, each insertion is O(1) time, and at worst it's O(N)."
   ],
   "id": "9c1796b759015f98"
  },
  {
   "metadata": {},
   "cell_type": "markdown",
   "source": "",
   "id": "ad45b96871a65ccf"
  },
  {
   "metadata": {},
   "cell_type": "markdown",
   "source": [
    "# Is Unique\n",
    " Implement an algorithm to determine if a string has all unique characters. What if you cannot use additional data structures?\n"
   ],
   "id": "224ec08276cea810"
  },
  {
   "metadata": {
    "ExecuteTime": {
     "end_time": "2024-10-20T21:47:56.372939Z",
     "start_time": "2024-10-20T21:47:56.369476Z"
    }
   },
   "cell_type": "code",
   "source": [
    "# We can solve this in multiple ways:\n",
    "\n",
    "# If we could use another data structure, we could use a set and iterate over the array, if the character is already in the set\n",
    "# we should return False, since we know that the string doesn't have all unique characters.\n",
    "def is_unique_with_set(string: str) -> bool:\n",
    "    chars = set()\n",
    "    for char in string:\n",
    "        if char in chars:\n",
    "            return False\n",
    "        chars.add(char)\n",
    "    return True\n",
    "\n",
    "print(is_unique_with_set('abcdefghijklmnop'))\n",
    "\n",
    "print(is_unique_with_set('aabcdefghijklmnop'))\n",
    "\n",
    "# We can also solve this problem without using other data structures like the solution above.\n",
    "# For this, we should, first of all, sort the array and iterate over the sorted array,\n",
    "# then we check if the char at the index is equals to the char at index + 1, if it is then we \n",
    "# should return False, otherwise we should return True.\n",
    "\n",
    "def is_unique(string: str) -> bool:\n",
    "    sorted_string = sorted(string)\n",
    "    \n",
    "    for i in range(len(sorted_string) - 1):\n",
    "        if sorted_string[i] == sorted_string[i + 1]:\n",
    "            return False\n",
    "    return True\n",
    "   \n",
    "print(is_unique('abcdefghijklmnop')) \n",
    "print(is_unique('aabcdefghijklmnop'))"
   ],
   "id": "4499757eb2e0622",
   "outputs": [
    {
     "name": "stdout",
     "output_type": "stream",
     "text": [
      "True\n",
      "False\n",
      "True\n",
      "False\n"
     ]
    }
   ],
   "execution_count": 28
  },
  {
   "metadata": {},
   "cell_type": "markdown",
   "source": [
    "## Two Pointers\n",
    "\n",
    "Two pointers involves having two integer variables that moth move along an iterable.\n",
    "\n",
    "**Example 1: Given a string s, return true if it is a palindrome, false otherwise.**\n",
    "\n",
    "Here, we can use the two pointers technique  to check if all corresponding characters are equal. To start, we check if the first and last characters are equal using different pointers, to check the next pair of characters, we can move our pointers closer to each other, and so on until we either find a mismatch or the pointers meet each other."
   ],
   "id": "870fe285d607b439"
  },
  {
   "metadata": {
    "ExecuteTime": {
     "end_time": "2024-10-21T14:08:14.931194Z",
     "start_time": "2024-10-21T14:08:14.928959Z"
    }
   },
   "cell_type": "code",
   "source": [
    "def is_palindrome(s: str) -> bool:\n",
    "    s = ''.join(e.lower() for e in s if e.isalnum())\n",
    "    i = 0\n",
    "    j = len(s) - 1\n",
    "    while i < j:\n",
    "        if s[i] != s[j]:\n",
    "            return False\n",
    "        i += 1\n",
    "        j -= 1\n",
    "    return True\n",
    "\n",
    "print(is_palindrome('racecar'))\n",
    "print(is_palindrome('abcdefghijklmnop'))"
   ],
   "id": "f769834e94c382b0",
   "outputs": [
    {
     "name": "stdout",
     "output_type": "stream",
     "text": [
      "True\n",
      "False\n"
     ]
    }
   ],
   "execution_count": 57
  },
  {
   "metadata": {},
   "cell_type": "markdown",
   "source": [
    "**Example 2: Given a sorted array of unique integers and a target integer, return `true` if there exists a pair of numbers that sum to target,`false` otherwise. This problem is similar to [Two Sum](https://leetcode.com/problems/two-sum/). (In Two Sum, the input is not sorted).**\n",
    "\n",
    "For example, given `nums = [1, 2, 4, 6, 8, 9, 14, 15]` and `target = 13`, return true because `4 + 9 = 13`."
   ],
   "id": "32d2b3c2ef809ed7"
  },
  {
   "metadata": {
    "ExecuteTime": {
     "end_time": "2024-10-21T16:26:24.487072Z",
     "start_time": "2024-10-21T16:26:24.484224Z"
    }
   },
   "cell_type": "code",
   "source": [
    "def check_for_target(nums: [int], target: int) -> bool:\n",
    "    left_pointer, right_pointer = 0, len(nums) - 1\n",
    "    \n",
    "    while left_pointer < right_pointer:\n",
    "        s = nums[left_pointer] + nums[right_pointer]\n",
    "        if s == target:\n",
    "            return True\n",
    "        elif s < target:\n",
    "            left_pointer += 1\n",
    "        elif s > target:\n",
    "            right_pointer -= 1\n",
    "    \n",
    "    return False\n",
    "\n",
    "print(check_for_target([1, 2, 3, 4, 5], 5))\n",
    "print(check_for_target([1, 2, 3, 4, 5], 2))\n",
    "        "
   ],
   "id": "55e6edbfa490a5ec",
   "outputs": [
    {
     "name": "stdout",
     "output_type": "stream",
     "text": [
      "True\n",
      "False\n"
     ]
    }
   ],
   "execution_count": 60
  },
  {
   "metadata": {
    "ExecuteTime": {
     "end_time": "2024-10-22T12:19:39.915179Z",
     "start_time": "2024-10-22T12:19:39.911449Z"
    }
   },
   "cell_type": "code",
   "source": [
    "def remove_anagrams(words: [str]) -> [str]:\n",
    "    ans = [words[0]]\n",
    "    for i in range(1, len(words)):\n",
    "        if sorted(words[i]) != sorted(words[i - 1]):\n",
    "            ans.append(words[i])\n",
    "        \n",
    "    return ans\n",
    "\n",
    "print(remove_anagrams([\"abba\",\"baba\",\"bbaa\",\"cd\",\"cd\"]))"
   ],
   "id": "93e79d138a94c67f",
   "outputs": [
    {
     "name": "stdout",
     "output_type": "stream",
     "text": [
      "['abba', 'cd']\n"
     ]
    }
   ],
   "execution_count": 99
  },
  {
   "metadata": {},
   "cell_type": "markdown",
   "source": "",
   "id": "791d78d8688760b2"
  },
  {
   "metadata": {
    "ExecuteTime": {
     "end_time": "2024-11-10T00:21:50.051876Z",
     "start_time": "2024-11-10T00:21:50.049591Z"
    }
   },
   "cell_type": "code",
   "source": [
    "# Empty list\n",
    "array = []\n",
    "\n",
    "# List with elements\n",
    "array2 = [1 , 2 , 3]\n",
    "\n",
    "# Accessing elements\n",
    "first = array2[0]\n",
    "\n",
    "last = array2[-1]\n",
    "\n",
    "# Creating subarrays\n",
    "subarray = array2[:2]\n",
    "\n",
    "# Adding elements\n",
    "# To the end of a list\n",
    "array2.append(first)\n",
    "\n",
    "# To a specific position\n",
    "array.insert(2, 10)\n",
    "\n",
    "# Removing Elements\n",
    "# Removing first element equals to 10\n",
    "array.remove(10)\n",
    "\n",
    "# Removing last element\n",
    "array.pop()\n",
    "\n",
    "# Removing element at index\n",
    "array.pop(2)\n",
    "\n",
    "# Finding element\n",
    "array.index(4)\n",
    "\n",
    "# Counting Elements\n",
    "array.count(2)\n",
    "\n",
    "# Sorting\n",
    "array.sort()\n",
    "\n",
    "array.sort(reverse=True)\n",
    "\n",
    "array.sort(key = lambda x: x)\n",
    "\n",
    "# Helper functions\n",
    "size = len(array)\n",
    "\n",
    "s = sum(array)\n",
    "\n",
    "bigger = max(array)\n",
    "smaller = min(array)\n",
    "\n",
    "# List Comprehension\n",
    "square = [x ** 2 for x in range(1, 6)]\n",
    "\n",
    "pairs = [x for x in array if x % 2 == 0]\n",
    "\n",
    "# Copy using slicing\n",
    "copy_slicing = array[:]\n"
   ],
   "id": "6a94dbf48cfccad0",
   "outputs": [],
   "execution_count": 4
  },
  {
   "metadata": {
    "ExecuteTime": {
     "end_time": "2024-11-14T17:57:50.945930Z",
     "start_time": "2024-11-14T17:57:50.940678Z"
    }
   },
   "cell_type": "code",
   "source": [
    "class Stack:\n",
    "    def __init__(self):\n",
    "        self.items = []\n",
    "\n",
    "    def push(self, item):\n",
    "        self.items.append(item)\n",
    "\n",
    "    def pop(self):\n",
    "        if not self.is_empty():\n",
    "            return self.items.pop()\n",
    "        else:\n",
    "            return \"Error: The stack is empty!\"\n",
    "\n",
    "    def top(self):\n",
    "        if not self.is_empty():\n",
    "            return self.items[-1]\n",
    "        else:\n",
    "            return \"Error: The stack is empty!\"\n",
    "\n",
    "    def is_empty(self):\n",
    "        return len(self.items) == 0\n",
    "\n",
    "class Queue:\n",
    "    def __init__(self):\n",
    "        self.items = []\n",
    "\n",
    "    def enqueue(self, item):\n",
    "        self.items.append(item)\n",
    "\n",
    "    def dequeue(self):\n",
    "        if not self.is_empty():\n",
    "            return self.items.pop(0)\n",
    "        else:\n",
    "            return \"Error: The queue is empty!\"\n",
    "\n",
    "    def front(self):\n",
    "        if not self.is_empty():\n",
    "            return self.items[0]\n",
    "        else:\n",
    "            return \"Error: The queue is empty!\"\n",
    "\n",
    "    def is_empty(self):\n",
    "        return len(self.items) == 0\n",
    "\n",
    "stack = Stack()\n",
    "for i in range(5):\n",
    "    stack.push(i)\n",
    "\n",
    "stack.pop()\n",
    "stack.pop()\n",
    "\n",
    "top_stack = stack.top()\n",
    "\n",
    "queue = Queue()\n",
    "for i in range(5):\n",
    "    queue.enqueue(i)\n",
    "\n",
    "queue.dequeue()\n",
    "queue.dequeue()\n",
    "queue.dequeue()\n",
    "\n",
    "front_queue = queue.front()\n",
    "\n",
    "top_stack, front_queue"
   ],
   "id": "c049fc3dcbbcfa74",
   "outputs": [
    {
     "data": {
      "text/plain": [
       "(2, 3)"
      ]
     },
     "execution_count": 7,
     "metadata": {},
     "output_type": "execute_result"
    }
   ],
   "execution_count": 7
  },
  {
   "metadata": {},
   "cell_type": "code",
   "outputs": [],
   "execution_count": null,
   "source": [
    "from collections import deque\n",
    "\n",
    "q = deque()\n"
   ],
   "id": "c1f517b678b49b10"
  },
  {
   "metadata": {
    "ExecuteTime": {
     "end_time": "2024-11-14T18:00:33.354241Z",
     "start_time": "2024-11-14T18:00:33.352019Z"
    }
   },
   "cell_type": "code",
   "source": [
    "from queue import Queue\n",
    "\n",
    "q = Queue()\n",
    "\n",
    "q.put(\"x\")\n",
    "q.put(\"y\")\n",
    "q.put(\"z\")\n",
    "\n",
    "while not q.empty():\n",
    "    print(\"Q:\", q.get())"
   ],
   "id": "fc76c3644f891238",
   "outputs": [
    {
     "name": "stdout",
     "output_type": "stream",
     "text": [
      "Q: x\n",
      "Q: y\n",
      "Q: z\n"
     ]
    }
   ],
   "execution_count": 9
  },
  {
   "metadata": {
    "ExecuteTime": {
     "end_time": "2024-11-14T18:04:43.009743Z",
     "start_time": "2024-11-14T18:04:43.007637Z"
    }
   },
   "cell_type": "code",
   "source": [
    "stack = []\n",
    "\n",
    "stack.append(\"x\")\n",
    "stack.append(\"y\")\n",
    "stack.append(\"z\")\n",
    "\n",
    "print(\"Stack after push:\", stack)\n",
    "\n",
    "top = stack.pop()\n",
    "print(\"Removed element:\", top)\n",
    "print(\"Stack after pop:\", stack) "
   ],
   "id": "8e308faabeb610a5",
   "outputs": [
    {
     "name": "stdout",
     "output_type": "stream",
     "text": [
      "Stack after push: ['x', 'y', 'z']\n",
      "Removed element: z\n",
      "Stack after pop: ['x', 'y']\n"
     ]
    }
   ],
   "execution_count": 10
  },
  {
   "metadata": {},
   "cell_type": "code",
   "outputs": [],
   "execution_count": null,
   "source": [
    "from collections import deque\n",
    "\n",
    "d = deque()\n",
    "\n",
    "# Adding elements to both extremities\n",
    "d.append(\"end\")           \n",
    "d.appendleft(\"start\") \n",
    "\n",
    "# Removing elements from both extremities  \n",
    "print(d.pop())             # Removing from the ending (FIFO)\n",
    "print(d.popleft())         # Removing from the beginning (LIFO)"
   ],
   "id": "33cdd42f7349a365"
  },
  {
   "metadata": {
    "ExecuteTime": {
     "end_time": "2024-12-08T17:49:17.622530Z",
     "start_time": "2024-12-08T17:49:17.618105Z"
    }
   },
   "cell_type": "code",
   "source": [
    "class Node:\n",
    "    def __init__(self, key):\n",
    "        self.left = None\n",
    "        self.right = None\n",
    "        self.val = key\n",
    "\n",
    "\n",
    "class BinaryTree:\n",
    "    def __init__(self):\n",
    "        self.root = None\n",
    "\n",
    "    def insert(self, root, key):\n",
    "        if root is None:\n",
    "            return Node(key)\n",
    "        else:\n",
    "            if key < root.val:\n",
    "                root.left = self.insert(root.left, key)\n",
    "            else:\n",
    "                root.right = self.insert(root.right, key)\n",
    "        return root\n",
    "\n",
    "    def pre_order(self, root):\n",
    "        if root:\n",
    "            print(root.val, end=\" \")\n",
    "            self.pre_order(root.left)\n",
    "            self.pre_order(root.right)\n",
    "\n",
    "    def in_order(self, root):\n",
    "        if root:\n",
    "            self.in_order(root.left)\n",
    "            print(root.val, end=\" \")\n",
    "            self.in_order(root.right)\n",
    "\n",
    "    def post_order(self, root):\n",
    "        if root:\n",
    "            self.post_order(root.left)\n",
    "            self.post_order(root.right)\n",
    "            print(root.val, end=\" \")\n",
    "\n",
    "\n",
    "# Exemplo de uso\n",
    "if __name__ == \"__main__\":\n",
    "    tree = BinaryTree()\n",
    "    elements = [50, 30, 70, 20, 40, 60, 80]  # Elementos para construir a árvore\n",
    "    for elem in elements:\n",
    "        tree.root = tree.insert(tree.root, elem)\n",
    "\n",
    "    print(\"Pré-Ordem:\")\n",
    "    tree.pre_order(tree.root)\n",
    "\n",
    "    print(\"\\n\\nEm Ordem:\")\n",
    "    tree.in_order(tree.root)\n",
    "\n",
    "    print(\"\\n\\nPós-Ordem:\")\n",
    "    tree.post_order(tree.root)\n"
   ],
   "id": "c1ae88f171f3caf2",
   "outputs": [
    {
     "name": "stdout",
     "output_type": "stream",
     "text": [
      "Pré-Ordem:\n",
      "50 30 20 40 70 60 80 \n",
      "\n",
      "Em Ordem:\n",
      "20 30 40 50 60 70 80 \n",
      "\n",
      "Pós-Ordem:\n",
      "20 40 30 60 80 70 50 "
     ]
    }
   ],
   "execution_count": 1
  },
  {
   "metadata": {
    "ExecuteTime": {
     "end_time": "2024-12-08T17:55:38.798538Z",
     "start_time": "2024-12-08T17:55:38.795878Z"
    }
   },
   "cell_type": "code",
   "source": [
    "from functools import reduce\n",
    "\n",
    "numbers = [1, 2, 3, 4, 5, 6, 7, 8, 9, 10]\n",
    "\n",
    "def map_function(number):\n",
    "    return number ** 2\n",
    "\n",
    "def reduce_function(accumulator, value):\n",
    "    return accumulator + value\n",
    "\n",
    "squared_numbers = list(map(map_function, numbers))\n",
    "print(\"Números ao quadrado:\", squared_numbers)\n",
    "\n",
    "sum_of_squares = reduce(reduce_function, squared_numbers)\n",
    "print(\"Soma dos quadrados:\", sum_of_squares)"
   ],
   "id": "45bbabcad02722a2",
   "outputs": [
    {
     "name": "stdout",
     "output_type": "stream",
     "text": [
      "Números ao quadrado: [1, 4, 9, 16, 25, 36, 49, 64, 81, 100]\n",
      "Soma dos quadrados: 385\n"
     ]
    }
   ],
   "execution_count": 2
  }
 ],
 "metadata": {
  "kernelspec": {
   "display_name": "Python 3",
   "language": "python",
   "name": "python3"
  },
  "language_info": {
   "codemirror_mode": {
    "name": "ipython",
    "version": 2
   },
   "file_extension": ".py",
   "mimetype": "text/x-python",
   "name": "python",
   "nbconvert_exporter": "python",
   "pygments_lexer": "ipython2",
   "version": "2.7.6"
  }
 },
 "nbformat": 4,
 "nbformat_minor": 5
}
