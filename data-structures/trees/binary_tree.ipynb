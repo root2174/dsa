{
 "cells": [
  {
   "cell_type": "code",
   "id": "initial_id",
   "metadata": {
    "collapsed": true,
    "ExecuteTime": {
     "end_time": "2025-01-20T17:29:48.288998Z",
     "start_time": "2025-01-20T17:29:47.678752Z"
    }
   },
   "source": [
    "from graphviz import Digraph\n",
    "from IPython.display import display, SVG\n",
    "\n",
    "\n",
    "class Node:\n",
    "    def __init__(self, key):\n",
    "        self.left = None\n",
    "        self.right = None\n",
    "        self.val = key\n",
    "\n",
    "\n",
    "class BinaryTree:\n",
    "    def __init__(self):\n",
    "        self.root = None\n",
    "\n",
    "    def insert(self, root, key):\n",
    "        if root is None:\n",
    "            return Node(key)\n",
    "        else:\n",
    "            if key < root.val:\n",
    "                root.left = self.insert(root.left, key)\n",
    "            else:\n",
    "                root.right = self.insert(root.right, key)\n",
    "        return root\n",
    "\n",
    "    def pre_order(self, root):\n",
    "        if root:\n",
    "            print(root.val, end=\" \")\n",
    "            self.pre_order(root.left)\n",
    "            self.pre_order(root.right)\n",
    "\n",
    "    def in_order(self, root):\n",
    "        if root:\n",
    "            self.in_order(root.left)\n",
    "            print(root.val, end=\" \")\n",
    "            self.in_order(root.right)\n",
    "\n",
    "    def post_order(self, root):\n",
    "        if root:\n",
    "            self.post_order(root.left)\n",
    "            self.post_order(root.right)\n",
    "            print(root.val, end=\" \")\n",
    "            \n",
    "    def visualize(self, root):\n",
    "        \"\"\"Visualize the tree using Graphviz.\"\"\"\n",
    "        dot = Digraph()\n",
    "\n",
    "        def add_edges(node):\n",
    "            if node:\n",
    "                dot.node(str(node.val), str(node.val))\n",
    "                if node.left:\n",
    "                    dot.edge(str(node.val), str(node.left.val))\n",
    "                    add_edges(node.left)\n",
    "                if node.right:\n",
    "                    dot.edge(str(node.val), str(node.right.val))\n",
    "                    add_edges(node.right)\n",
    "\n",
    "        add_edges(root)\n",
    "        return dot\n",
    "\n",
    "\n",
    "if __name__ == \"__main__\":\n",
    "    tree = BinaryTree()\n",
    "    elements = [50, 30, 70, 20, 40, 60, 80]\n",
    "    for elem in elements:\n",
    "        tree.root = tree.insert(tree.root, elem)\n",
    "\n",
    "    print(\"Pré-Ordem:\")\n",
    "    tree.pre_order(tree.root)\n",
    "\n",
    "    print(\"\\n\\nEm Ordem:\")\n",
    "    tree.in_order(tree.root)\n",
    "\n",
    "    print(\"\\n\\nPós-Ordem:\")\n",
    "    tree.post_order(tree.root)\n",
    "\n",
    "    tree_viz = tree.visualize(tree.root)\n",
    "    svg = tree_viz.pipe(format=\"svg\")  # Generate SVG content\n",
    "    display(SVG(svg))"
   ],
   "outputs": [
    {
     "name": "stdout",
     "output_type": "stream",
     "text": [
      "Pré-Ordem:\n",
      "50 30 20 40 70 60 80 \n",
      "\n",
      "Em Ordem:\n",
      "20 30 40 50 60 70 80 \n",
      "\n",
      "Pós-Ordem:\n",
      "20 40 30 60 80 70 50 "
     ]
    },
    {
     "data": {
      "text/plain": [
       "<IPython.core.display.SVG object>"
      ],
      "image/svg+xml": "<svg xmlns=\"http://www.w3.org/2000/svg\" xmlns:xlink=\"http://www.w3.org/1999/xlink\" width=\"278pt\" height=\"188pt\" viewBox=\"0.00 0.00 278.00 188.00\">\n<g id=\"graph0\" class=\"graph\" transform=\"scale(1 1) rotate(0) translate(4 184)\">\n<polygon fill=\"white\" stroke=\"transparent\" points=\"-4,4 -4,-184 274,-184 274,4 -4,4\"/>\n<!-- 50 -->\n<g id=\"node1\" class=\"node\">\n<title>50</title>\n<ellipse fill=\"none\" stroke=\"black\" cx=\"135\" cy=\"-162\" rx=\"27\" ry=\"18\"/>\n<text text-anchor=\"middle\" x=\"135\" y=\"-158.3\" font-family=\"Times,serif\" font-size=\"14.00\">50</text>\n</g>\n<!-- 30 -->\n<g id=\"node2\" class=\"node\">\n<title>30</title>\n<ellipse fill=\"none\" stroke=\"black\" cx=\"99\" cy=\"-90\" rx=\"27\" ry=\"18\"/>\n<text text-anchor=\"middle\" x=\"99\" y=\"-86.3\" font-family=\"Times,serif\" font-size=\"14.00\">30</text>\n</g>\n<!-- 50&#45;&gt;30 -->\n<g id=\"edge1\" class=\"edge\">\n<title>50-&gt;30</title>\n<path fill=\"none\" stroke=\"black\" d=\"M126.65,-144.76C122.29,-136.28 116.85,-125.71 111.96,-116.2\"/>\n<polygon fill=\"black\" stroke=\"black\" points=\"114.99,-114.44 107.3,-107.15 108.77,-117.64 114.99,-114.44\"/>\n</g>\n<!-- 70 -->\n<g id=\"node5\" class=\"node\">\n<title>70</title>\n<ellipse fill=\"none\" stroke=\"black\" cx=\"171\" cy=\"-90\" rx=\"27\" ry=\"18\"/>\n<text text-anchor=\"middle\" x=\"171\" y=\"-86.3\" font-family=\"Times,serif\" font-size=\"14.00\">70</text>\n</g>\n<!-- 50&#45;&gt;70 -->\n<g id=\"edge4\" class=\"edge\">\n<title>50-&gt;70</title>\n<path fill=\"none\" stroke=\"black\" d=\"M143.35,-144.76C147.71,-136.28 153.15,-125.71 158.04,-116.2\"/>\n<polygon fill=\"black\" stroke=\"black\" points=\"161.23,-117.64 162.7,-107.15 155.01,-114.44 161.23,-117.64\"/>\n</g>\n<!-- 20 -->\n<g id=\"node3\" class=\"node\">\n<title>20</title>\n<ellipse fill=\"none\" stroke=\"black\" cx=\"27\" cy=\"-18\" rx=\"27\" ry=\"18\"/>\n<text text-anchor=\"middle\" x=\"27\" y=\"-14.3\" font-family=\"Times,serif\" font-size=\"14.00\">20</text>\n</g>\n<!-- 30&#45;&gt;20 -->\n<g id=\"edge2\" class=\"edge\">\n<title>30-&gt;20</title>\n<path fill=\"none\" stroke=\"black\" d=\"M84.43,-74.83C74.25,-64.94 60.48,-51.55 48.97,-40.36\"/>\n<polygon fill=\"black\" stroke=\"black\" points=\"51.41,-37.85 41.8,-33.38 46.53,-42.87 51.41,-37.85\"/>\n</g>\n<!-- 40 -->\n<g id=\"node4\" class=\"node\">\n<title>40</title>\n<ellipse fill=\"none\" stroke=\"black\" cx=\"99\" cy=\"-18\" rx=\"27\" ry=\"18\"/>\n<text text-anchor=\"middle\" x=\"99\" y=\"-14.3\" font-family=\"Times,serif\" font-size=\"14.00\">40</text>\n</g>\n<!-- 30&#45;&gt;40 -->\n<g id=\"edge3\" class=\"edge\">\n<title>30-&gt;40</title>\n<path fill=\"none\" stroke=\"black\" d=\"M99,-71.7C99,-63.98 99,-54.71 99,-46.11\"/>\n<polygon fill=\"black\" stroke=\"black\" points=\"102.5,-46.1 99,-36.1 95.5,-46.1 102.5,-46.1\"/>\n</g>\n<!-- 60 -->\n<g id=\"node6\" class=\"node\">\n<title>60</title>\n<ellipse fill=\"none\" stroke=\"black\" cx=\"171\" cy=\"-18\" rx=\"27\" ry=\"18\"/>\n<text text-anchor=\"middle\" x=\"171\" y=\"-14.3\" font-family=\"Times,serif\" font-size=\"14.00\">60</text>\n</g>\n<!-- 70&#45;&gt;60 -->\n<g id=\"edge5\" class=\"edge\">\n<title>70-&gt;60</title>\n<path fill=\"none\" stroke=\"black\" d=\"M171,-71.7C171,-63.98 171,-54.71 171,-46.11\"/>\n<polygon fill=\"black\" stroke=\"black\" points=\"174.5,-46.1 171,-36.1 167.5,-46.1 174.5,-46.1\"/>\n</g>\n<!-- 80 -->\n<g id=\"node7\" class=\"node\">\n<title>80</title>\n<ellipse fill=\"none\" stroke=\"black\" cx=\"243\" cy=\"-18\" rx=\"27\" ry=\"18\"/>\n<text text-anchor=\"middle\" x=\"243\" y=\"-14.3\" font-family=\"Times,serif\" font-size=\"14.00\">80</text>\n</g>\n<!-- 70&#45;&gt;80 -->\n<g id=\"edge6\" class=\"edge\">\n<title>70-&gt;80</title>\n<path fill=\"none\" stroke=\"black\" d=\"M185.57,-74.83C195.75,-64.94 209.52,-51.55 221.03,-40.36\"/>\n<polygon fill=\"black\" stroke=\"black\" points=\"223.47,-42.87 228.2,-33.38 218.59,-37.85 223.47,-42.87\"/>\n</g>\n</g>\n</svg>"
     },
     "metadata": {},
     "output_type": "display_data"
    }
   ],
   "execution_count": 5
  }
 ],
 "metadata": {
  "kernelspec": {
   "display_name": "Python 3",
   "language": "python",
   "name": "python3"
  },
  "language_info": {
   "codemirror_mode": {
    "name": "ipython",
    "version": 2
   },
   "file_extension": ".py",
   "mimetype": "text/x-python",
   "name": "python",
   "nbconvert_exporter": "python",
   "pygments_lexer": "ipython2",
   "version": "2.7.6"
  }
 },
 "nbformat": 4,
 "nbformat_minor": 5
}
